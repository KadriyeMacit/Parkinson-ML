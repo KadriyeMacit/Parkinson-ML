{
 "cells": [
  {
   "cell_type": "code",
   "execution_count": 21,
   "metadata": {},
   "outputs": [],
   "source": [
    "%matplotlib inline\n",
    "import numpy as np\n",
    "import pandas as pd\n",
    "import os\n",
    "import seaborn as sns\n",
    "from time import time\n",
    "from math import sqrt\n",
    "import matplotlib.pyplot as plt"
   ]
  },
  {
   "cell_type": "code",
   "execution_count": 2,
   "metadata": {},
   "outputs": [],
   "source": [
    "control_data_path=os.path.join('data', 'control')\n",
    "parkinson_data_path=os.path.join('data', 'parkinson')"
   ]
  },
  {
   "cell_type": "code",
   "execution_count": 3,
   "metadata": {},
   "outputs": [],
   "source": [
    "control_file_list=[os.path.join(control_data_path, x) for x in os.listdir(control_data_path)]\n",
    "parkinson_file_list=[os.path.join(parkinson_data_path, x) for x in os.listdir(parkinson_data_path)]"
   ]
  },
  {
   "cell_type": "code",
   "execution_count": 4,
   "metadata": {},
   "outputs": [],
   "source": [
    "def plot(f, plot_func, t_id=0, x=None, y=None):\n",
    "    global header_row\n",
    "    df=pd.read_csv(f, sep=';', header=None, names=header_row)\n",
    "    df=df[df[\"Test_ID\"]==t_id]\n",
    "    initial_timestamp=df['Timestamp'][0]\n",
    "    df['Timestamp']=df['Timestamp']- initial_timestamp\n",
    "    plot_func(data=df, x=x, y=y, fit_reg=False, scatter_kws={\"s\": 0.5})\n",
    "    print(metrics(test_y.tolist(), preds.tolist()))"
   ]
  },
  {
   "cell_type": "code",
   "execution_count": 5,
   "metadata": {},
   "outputs": [],
   "source": [
    "f = control_file_list[0]\n",
    "f2 = parkinson_file_list[0]\n",
    "header_row=[\"X\", \"Y\", \"Z\", \"Pressure\" , \"GripAngle\" , \"Timestamp\" , \"Test_ID\"]"
   ]
  },
  {
   "cell_type": "code",
   "execution_count": 6,
   "metadata": {},
   "outputs": [],
   "source": [
    "dfh=pd.read_csv(f, sep=';', header=None, names=header_row)"
   ]
  },
  {
   "cell_type": "code",
   "execution_count": 7,
   "metadata": {},
   "outputs": [],
   "source": [
    "dfh=dfh[dfh[\"Test_ID\"]==0]"
   ]
  },
  {
   "cell_type": "code",
   "execution_count": 8,
   "metadata": {},
   "outputs": [
    {
     "data": {
      "text/html": [
       "<div>\n",
       "<style scoped>\n",
       "    .dataframe tbody tr th:only-of-type {\n",
       "        vertical-align: middle;\n",
       "    }\n",
       "\n",
       "    .dataframe tbody tr th {\n",
       "        vertical-align: top;\n",
       "    }\n",
       "\n",
       "    .dataframe thead th {\n",
       "        text-align: right;\n",
       "    }\n",
       "</style>\n",
       "<table border=\"1\" class=\"dataframe\">\n",
       "  <thead>\n",
       "    <tr style=\"text-align: right;\">\n",
       "      <th></th>\n",
       "      <th>X</th>\n",
       "      <th>Y</th>\n",
       "      <th>Z</th>\n",
       "      <th>Pressure</th>\n",
       "      <th>GripAngle</th>\n",
       "      <th>Timestamp</th>\n",
       "      <th>Test_ID</th>\n",
       "    </tr>\n",
       "  </thead>\n",
       "  <tbody>\n",
       "    <tr>\n",
       "      <th>0</th>\n",
       "      <td>200</td>\n",
       "      <td>204</td>\n",
       "      <td>0</td>\n",
       "      <td>73</td>\n",
       "      <td>910</td>\n",
       "      <td>1732647300</td>\n",
       "      <td>0</td>\n",
       "    </tr>\n",
       "    <tr>\n",
       "      <th>1</th>\n",
       "      <td>200</td>\n",
       "      <td>204</td>\n",
       "      <td>0</td>\n",
       "      <td>218</td>\n",
       "      <td>900</td>\n",
       "      <td>1732647307</td>\n",
       "      <td>0</td>\n",
       "    </tr>\n",
       "    <tr>\n",
       "      <th>2</th>\n",
       "      <td>200</td>\n",
       "      <td>204</td>\n",
       "      <td>0</td>\n",
       "      <td>253</td>\n",
       "      <td>900</td>\n",
       "      <td>1732647314</td>\n",
       "      <td>0</td>\n",
       "    </tr>\n",
       "    <tr>\n",
       "      <th>3</th>\n",
       "      <td>200</td>\n",
       "      <td>204</td>\n",
       "      <td>0</td>\n",
       "      <td>304</td>\n",
       "      <td>900</td>\n",
       "      <td>1732647321</td>\n",
       "      <td>0</td>\n",
       "    </tr>\n",
       "    <tr>\n",
       "      <th>4</th>\n",
       "      <td>200</td>\n",
       "      <td>204</td>\n",
       "      <td>0</td>\n",
       "      <td>351</td>\n",
       "      <td>900</td>\n",
       "      <td>1732647328</td>\n",
       "      <td>0</td>\n",
       "    </tr>\n",
       "    <tr>\n",
       "      <th>...</th>\n",
       "      <td>...</td>\n",
       "      <td>...</td>\n",
       "      <td>...</td>\n",
       "      <td>...</td>\n",
       "      <td>...</td>\n",
       "      <td>...</td>\n",
       "      <td>...</td>\n",
       "    </tr>\n",
       "    <tr>\n",
       "      <th>2573</th>\n",
       "      <td>399</td>\n",
       "      <td>203</td>\n",
       "      <td>0</td>\n",
       "      <td>770</td>\n",
       "      <td>650</td>\n",
       "      <td>1732665409</td>\n",
       "      <td>0</td>\n",
       "    </tr>\n",
       "    <tr>\n",
       "      <th>2574</th>\n",
       "      <td>399</td>\n",
       "      <td>203</td>\n",
       "      <td>0</td>\n",
       "      <td>674</td>\n",
       "      <td>690</td>\n",
       "      <td>1732665416</td>\n",
       "      <td>0</td>\n",
       "    </tr>\n",
       "    <tr>\n",
       "      <th>2575</th>\n",
       "      <td>399</td>\n",
       "      <td>202</td>\n",
       "      <td>12</td>\n",
       "      <td>510</td>\n",
       "      <td>680</td>\n",
       "      <td>1732665423</td>\n",
       "      <td>0</td>\n",
       "    </tr>\n",
       "    <tr>\n",
       "      <th>2576</th>\n",
       "      <td>400</td>\n",
       "      <td>201</td>\n",
       "      <td>24</td>\n",
       "      <td>260</td>\n",
       "      <td>660</td>\n",
       "      <td>1732665430</td>\n",
       "      <td>0</td>\n",
       "    </tr>\n",
       "    <tr>\n",
       "      <th>2577</th>\n",
       "      <td>401</td>\n",
       "      <td>200</td>\n",
       "      <td>12</td>\n",
       "      <td>76</td>\n",
       "      <td>660</td>\n",
       "      <td>1732665437</td>\n",
       "      <td>0</td>\n",
       "    </tr>\n",
       "  </tbody>\n",
       "</table>\n",
       "<p>2578 rows × 7 columns</p>\n",
       "</div>"
      ],
      "text/plain": [
       "        X    Y   Z  Pressure  GripAngle   Timestamp  Test_ID\n",
       "0     200  204   0        73        910  1732647300        0\n",
       "1     200  204   0       218        900  1732647307        0\n",
       "2     200  204   0       253        900  1732647314        0\n",
       "3     200  204   0       304        900  1732647321        0\n",
       "4     200  204   0       351        900  1732647328        0\n",
       "...   ...  ...  ..       ...        ...         ...      ...\n",
       "2573  399  203   0       770        650  1732665409        0\n",
       "2574  399  203   0       674        690  1732665416        0\n",
       "2575  399  202  12       510        680  1732665423        0\n",
       "2576  400  201  24       260        660  1732665430        0\n",
       "2577  401  200  12        76        660  1732665437        0\n",
       "\n",
       "[2578 rows x 7 columns]"
      ]
     },
     "execution_count": 8,
     "metadata": {},
     "output_type": "execute_result"
    }
   ],
   "source": [
    "dfh"
   ]
  },
  {
   "cell_type": "code",
   "execution_count": 9,
   "metadata": {},
   "outputs": [
    {
     "data": {
      "text/plain": [
       "[<matplotlib.lines.Line2D at 0x248b07adbc8>,\n",
       " <matplotlib.lines.Line2D at 0x248b07adec8>]"
      ]
     },
     "execution_count": 9,
     "metadata": {},
     "output_type": "execute_result"
    },
    {
     "data": {
      "image/png": "[encoded data removed]",
      "text/plain": [
       "<Figure size 432x288 with 1 Axes>"
      ]
     },
     "metadata": {
      "needs_background": "light"
     },
     "output_type": "display_data"
    }
   ],
   "source": [
    "plt.plot(dfh['Pressure'], 'r--',dfh['GripAngle'],'g--')"
   ]
  },
  {
   "cell_type": "code",
   "execution_count": 10,
   "metadata": {},
   "outputs": [],
   "source": [
    "dfp=pd.read_csv(f2, sep=';', header=None, names=header_row)"
   ]
  },
  {
   "cell_type": "code",
   "execution_count": 11,
   "metadata": {},
   "outputs": [],
   "source": [
    "dfp=dfp[dfp[\"Test_ID\"]==0]"
   ]
  },
  {
   "cell_type": "code",
   "execution_count": 15,
   "metadata": {},
   "outputs": [
    {
     "data": {
      "text/html": [
       "<div>\n",
       "<style scoped>\n",
       "    .dataframe tbody tr th:only-of-type {\n",
       "        vertical-align: middle;\n",
       "    }\n",
       "\n",
       "    .dataframe tbody tr th {\n",
       "        vertical-align: top;\n",
       "    }\n",
       "\n",
       "    .dataframe thead th {\n",
       "        text-align: right;\n",
       "    }\n",
       "</style>\n",
       "<table border=\"1\" class=\"dataframe\">\n",
       "  <thead>\n",
       "    <tr style=\"text-align: right;\">\n",
       "      <th></th>\n",
       "      <th>X</th>\n",
       "      <th>Y</th>\n",
       "      <th>Z</th>\n",
       "      <th>Pressure</th>\n",
       "      <th>GripAngle</th>\n",
       "      <th>Timestamp</th>\n",
       "      <th>Test_ID</th>\n",
       "    </tr>\n",
       "  </thead>\n",
       "  <tbody>\n",
       "    <tr>\n",
       "      <th>0</th>\n",
       "      <td>201</td>\n",
       "      <td>200</td>\n",
       "      <td>0</td>\n",
       "      <td>20</td>\n",
       "      <td>880</td>\n",
       "      <td>68140147</td>\n",
       "      <td>0</td>\n",
       "    </tr>\n",
       "    <tr>\n",
       "      <th>1</th>\n",
       "      <td>201</td>\n",
       "      <td>200</td>\n",
       "      <td>0</td>\n",
       "      <td>86</td>\n",
       "      <td>900</td>\n",
       "      <td>68140154</td>\n",
       "      <td>0</td>\n",
       "    </tr>\n",
       "    <tr>\n",
       "      <th>2</th>\n",
       "      <td>201</td>\n",
       "      <td>200</td>\n",
       "      <td>0</td>\n",
       "      <td>123</td>\n",
       "      <td>900</td>\n",
       "      <td>68140161</td>\n",
       "      <td>0</td>\n",
       "    </tr>\n",
       "    <tr>\n",
       "      <th>3</th>\n",
       "      <td>201</td>\n",
       "      <td>200</td>\n",
       "      <td>0</td>\n",
       "      <td>146</td>\n",
       "      <td>900</td>\n",
       "      <td>68140168</td>\n",
       "      <td>0</td>\n",
       "    </tr>\n",
       "    <tr>\n",
       "      <th>4</th>\n",
       "      <td>201</td>\n",
       "      <td>200</td>\n",
       "      <td>0</td>\n",
       "      <td>158</td>\n",
       "      <td>900</td>\n",
       "      <td>68140175</td>\n",
       "      <td>0</td>\n",
       "    </tr>\n",
       "    <tr>\n",
       "      <th>...</th>\n",
       "      <td>...</td>\n",
       "      <td>...</td>\n",
       "      <td>...</td>\n",
       "      <td>...</td>\n",
       "      <td>...</td>\n",
       "      <td>...</td>\n",
       "      <td>...</td>\n",
       "    </tr>\n",
       "    <tr>\n",
       "      <th>4611</th>\n",
       "      <td>400</td>\n",
       "      <td>205</td>\n",
       "      <td>0</td>\n",
       "      <td>556</td>\n",
       "      <td>1480</td>\n",
       "      <td>68173107</td>\n",
       "      <td>0</td>\n",
       "    </tr>\n",
       "    <tr>\n",
       "      <th>4612</th>\n",
       "      <td>400</td>\n",
       "      <td>205</td>\n",
       "      <td>0</td>\n",
       "      <td>525</td>\n",
       "      <td>1500</td>\n",
       "      <td>68173114</td>\n",
       "      <td>0</td>\n",
       "    </tr>\n",
       "    <tr>\n",
       "      <th>4613</th>\n",
       "      <td>400</td>\n",
       "      <td>206</td>\n",
       "      <td>0</td>\n",
       "      <td>484</td>\n",
       "      <td>1510</td>\n",
       "      <td>68173121</td>\n",
       "      <td>0</td>\n",
       "    </tr>\n",
       "    <tr>\n",
       "      <th>4614</th>\n",
       "      <td>400</td>\n",
       "      <td>206</td>\n",
       "      <td>0</td>\n",
       "      <td>386</td>\n",
       "      <td>1510</td>\n",
       "      <td>68173128</td>\n",
       "      <td>0</td>\n",
       "    </tr>\n",
       "    <tr>\n",
       "      <th>4615</th>\n",
       "      <td>400</td>\n",
       "      <td>206</td>\n",
       "      <td>0</td>\n",
       "      <td>194</td>\n",
       "      <td>1500</td>\n",
       "      <td>68173135</td>\n",
       "      <td>0</td>\n",
       "    </tr>\n",
       "  </tbody>\n",
       "</table>\n",
       "<p>4616 rows × 7 columns</p>\n",
       "</div>"
      ],
      "text/plain": [
       "        X    Y  Z  Pressure  GripAngle  Timestamp  Test_ID\n",
       "0     201  200  0        20        880   68140147        0\n",
       "1     201  200  0        86        900   68140154        0\n",
       "2     201  200  0       123        900   68140161        0\n",
       "3     201  200  0       146        900   68140168        0\n",
       "4     201  200  0       158        900   68140175        0\n",
       "...   ...  ... ..       ...        ...        ...      ...\n",
       "4611  400  205  0       556       1480   68173107        0\n",
       "4612  400  205  0       525       1500   68173114        0\n",
       "4613  400  206  0       484       1510   68173121        0\n",
       "4614  400  206  0       386       1510   68173128        0\n",
       "4615  400  206  0       194       1500   68173135        0\n",
       "\n",
       "[4616 rows x 7 columns]"
      ]
     },
     "execution_count": 15,
     "metadata": {},
     "output_type": "execute_result"
    }
   ],
   "source": [
    "dfp"
   ]
  },
  {
   "cell_type": "code",
   "execution_count": 16,
   "metadata": {},
   "outputs": [
    {
     "data": {
      "text/plain": [
       "[<matplotlib.lines.Line2D at 0x248b0a0acc8>,\n",
       " <matplotlib.lines.Line2D at 0x248b0a0af48>]"
      ]
     },
     "execution_count": 16,
     "metadata": {},
     "output_type": "execute_result"
    },
    {
     "data": {
      "image/png": "[encoded data removed]",
      "text/plain": [
       "<Figure size 432x288 with 1 Axes>"
      ]
     },
     "metadata": {
      "needs_background": "light"
     },
     "output_type": "display_data"
    }
   ],
   "source": [
    "plt.plot(dfh['Pressure'], 'g--',dfp['Pressure'],'r--')"
   ]
  },
  {
   "cell_type": "code",
   "execution_count": 17,
   "metadata": {},
   "outputs": [],
   "source": [
    "from sklearn.cluster import KMeans"
   ]
  },
  {
   "cell_type": "code",
   "execution_count": 18,
   "metadata": {},
   "outputs": [
    {
     "data": {
      "text/plain": [
       "KMeans(algorithm='auto', copy_x=True, init='k-means++', max_iter=300,\n",
       "       n_clusters=2, n_init=10, n_jobs=None, precompute_distances='auto',\n",
       "       random_state=None, tol=0.0001, verbose=0)"
      ]
     },
     "execution_count": 18,
     "metadata": {},
     "output_type": "execute_result"
    }
   ],
   "source": [
    "Kmean = KMeans(n_clusters=2)\n",
    "Kmean.fit(dfh,dfp)"
   ]
  },
  {
   "cell_type": "code",
   "execution_count": 19,
   "metadata": {},
   "outputs": [
    {
     "data": {
      "text/plain": [
       "array([[1.83196899e+02, 2.07768992e+02, 5.86046512e-01, 8.46986047e+02,\n",
       "        8.19899225e+02, 1.73265184e+09, 0.00000000e+00],\n",
       "       [2.16301242e+02, 2.01979814e+02, 8.57142857e-01, 9.21473602e+02,\n",
       "        7.68695652e+02, 1.73266091e+09, 0.00000000e+00]])"
      ]
     },
     "execution_count": 19,
     "metadata": {},
     "output_type": "execute_result"
    }
   ],
   "source": [
    "Kmean.cluster_centers_"
   ]
  },
  {
   "cell_type": "code",
   "execution_count": 22,
   "metadata": {
    "scrolled": true
   },
   "outputs": [
    {
     "data": {
      "image/png": "[encoded data removed]",
      "text/plain": [
       "<Figure size 432x288 with 1 Axes>"
      ]
     },
     "metadata": {
      "needs_background": "light"
     },
     "output_type": "display_data"
    }
   ],
   "source": [
    "plt.scatter(dfh['Pressure'], dfh['GripAngle'], color='green', alpha=0.65)\n",
    "plt.scatter(dfp['Pressure'], dfp['GripAngle'], color='red', alpha=0.65)\n",
    "plt.scatter(7.21473602e+02,11.18695652e+02, s=111, color='black', marker='^')\n",
    "plt.scatter(8.66986047e+02,7.79899225e+02, s=111, color='yellow', marker='^')\n",
    "plt.show()"
   ]
  },
  {
   "cell_type": "code",
   "execution_count": null,
   "metadata": {},
   "outputs": [],
   "source": []
  },
  {
   "cell_type": "code",
   "execution_count": null,
   "metadata": {},
   "outputs": [],
   "source": []
  },
  {
   "cell_type": "code",
   "execution_count": null,
   "metadata": {},
   "outputs": [],
   "source": []
  }
 ],
 "metadata": {
  "kernelspec": {
   "display_name": "Python 3",
   "language": "python",
   "name": "python3"
  },
  "language_info": {
   "codemirror_mode": {
    "name": "ipython",
    "version": 3
   },
   "file_extension": ".py",
   "mimetype": "text/x-python",
   "name": "python",
   "nbconvert_exporter": "python",
   "pygments_lexer": "ipython3",
   "version": "3.7.4"
  }
 },
 "nbformat": 4,
 "nbformat_minor": 2
}
